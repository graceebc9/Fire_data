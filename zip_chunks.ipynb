{
 "cells": [
  {
   "cell_type": "code",
   "execution_count": null,
   "id": "7fd2adbd-ce87-465a-9c17-d6669f5fccf2",
   "metadata": {},
   "outputs": [],
   "source": [
    "from tifffile import imread, imsave"
   ]
  },
  {
   "cell_type": "code",
   "execution_count": null,
   "id": "c7c49651-43b9-40c5-9a8e-dfc727603257",
   "metadata": {},
   "outputs": [],
   "source": [
    "chunks= glob.glob('/home/users/graceebc/Fire_data/MODIS/*.tif')\n",
    "outputpath = '/home/users/graceebc/Fire_data/MODIS/zip/'\n",
    "\n",
    "for file in chunks:\n",
    "        \n",
    "    im = imread(file)\n",
    "    out = outputpath + \n",
    "    imsave(\"tiger-rgb-strip-contig-16-zip.tif\", im, compress=6) "
   ]
  }
 ],
 "metadata": {
  "kernelspec": {
   "display_name": "Python 3 (ipykernel)",
   "language": "python",
   "name": "python3"
  },
  "language_info": {
   "codemirror_mode": {
    "name": "ipython",
    "version": 3
   },
   "file_extension": ".py",
   "mimetype": "text/x-python",
   "name": "python",
   "nbconvert_exporter": "python",
   "pygments_lexer": "ipython3",
   "version": "3.10.0"
  }
 },
 "nbformat": 4,
 "nbformat_minor": 5
}
