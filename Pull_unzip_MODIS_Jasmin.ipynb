{
 "cells": [
  {
   "cell_type": "code",
   "execution_count": null,
   "id": "082ad800-155c-4625-b3b6-a58c95dec21b",
   "metadata": {},
   "outputs": [],
   "source": [
    "import os\n",
    "import dateutil.parser as dparser\n",
    "import datetime\n",
    "\n",
    "import glob\n",
    "import tarfile"
   ]
  },
  {
   "cell_type": "code",
   "execution_count": null,
   "id": "7038135f-62ba-4f73-ba7e-7c36d47bf1c2",
   "metadata": {},
   "outputs": [],
   "source": [
    "\n",
    "#file path for jasmin\n",
    "path = '/neodc/esacci/fire/data/burned_area/MODIS/pixel/v5.1/compressed'  \n",
    "\n",
    "#output paths\n",
    "output_path_zip = '/home/users/graceebc/MODIS/'\n",
    "\n",
    "\n",
    "if os.path.isdir(output_path_zip) is False:\n",
    "    os.makedirs(output_path_zip)   \n",
    "\n"
   ]
  },
  {
   "cell_type": "code",
   "execution_count": null,
   "id": "48286813-41c0-41d7-af56-243b7bbac643",
   "metadata": {},
   "outputs": [],
   "source": [
    "\n",
    "print('Pulling and unzipping the MODIS files, start()... ')\n",
    "\n",
    "#Access all files and unzip - need to treat 2007 and 2019 differently as there was restated data\n",
    "year_list = [ x for x in range(2001,2021) if (x!= 2007 and x!= 2019) ]\n",
    "months = ['01', '02', '03', '04', '05', '06', '07', '08' ,'09' ,'10', '11', '12']\n",
    "months1 = ['01', '02', '03', '04', '05', '06', '07', '08' ,'09']\n",
    "months2 = [ '10', '11', '12']\n",
    "\n",
    "#create list of files - 2007 has different folder structure + 2019\n",
    "file_part1 = ['/neodc/esacci/fire/data/burned_area/MODIS/pixel/v5.1/compressed/{0}/{0}{1}01-ESACCI-L3S_FIRE-BA-MODIS-AREA_3-fv5.1.tar.gz'.format(year, month) for year in year_list for month in months]\n",
    "file_part2 = ['/neodc/esacci/fire/data/burned_area/MODIS/pixel/v5.1/compressed/2007/new-corrected/2007{0}01-ESACCI-L3S_FIRE-BA-MODIS-AREA_3-fv5.1.tar.gz'.format(month) for month in months ]\n",
    "file_part3 = ['/neodc/esacci/fire/data/burned_area/MODIS/pixel/v5.1/compressed/2019/2019{0}01-ESACCI-L3S_FIRE-BA-MODIS-AREA_3-fv5.1.tar.gz'.format(month) for month in months1]\n",
    "file_part4 = ['/neodc/esacci/fire/data/burned_area/MODIS/pixel/v5.1/compressed/2019/new-corrected/2019{0}01-ESACCI-L3S_FIRE-BA-MODIS-AREA_3-fv5.1.tar.gz'.format(month) for month in months2]\n",
    "files = file_part1 + file_part2 + file_part3 + file_part4\n",
    "\n",
    "\n",
    "#unzip files\n",
    "for file_name in files:\n",
    "    try:\n",
    "        dat = dparser.parse(str(file_name[68:80].replace('/',' ')), fuzzy='yes')\n",
    "        name = dat.strftime(\"%Y%m%d\")\n",
    "\n",
    "    except:\n",
    "        dat = dparser.parse(str(file_name[80:95].replace('/',' ')), fuzzy='yes')\n",
    "        name = dat.strftime(\"%Y%m%d\")\n",
    "    file_id = '{0}-ESACCI-L3S_FIRE-BA-MODIS-AREA_3-fv5.1-LC.tif'.format(name)\n",
    "    #check if file already unzipped\n",
    "    if file_id not in os.listdir(output_path_zip):\n",
    "        # open file\n",
    "\n",
    "        file = tarfile.open(file_name)\n",
    "\n",
    "        # extracting file\n",
    "        file.extractall(output_path_zip)\n",
    "\n",
    "        file.close()\n",
    "\n",
    "print('Unzip all MODIS files, end()')\n",
    "# In[4]:\n"
   ]
  }
 ],
 "metadata": {
  "kernelspec": {
   "display_name": "viz_geo",
   "language": "python",
   "name": "viz_geo"
  },
  "language_info": {
   "codemirror_mode": {
    "name": "ipython",
    "version": 3
   },
   "file_extension": ".py",
   "mimetype": "text/x-python",
   "name": "python",
   "nbconvert_exporter": "python",
   "pygments_lexer": "ipython3",
   "version": "3.10.2"
  }
 },
 "nbformat": 4,
 "nbformat_minor": 5
}
